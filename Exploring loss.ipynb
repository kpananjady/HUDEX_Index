{
 "cells": [
  {
   "cell_type": "markdown",
   "metadata": {},
   "source": [
    "# What this file does"
   ]
  },
  {
   "cell_type": "markdown",
   "metadata": {},
   "source": [
    "I cleaned up FEMA webpages on money in and out of the National Flood Insurance Program, and then did some basic subtraction and plotting.\n",
    "\n",
    "Total Earned Premium data by Calendar year: https://www.fema.gov/total-earned-premium-calendar-year ; note that this is different from the figures that were arrived in this government report of Total Written Premiums\n",
    "https://www.washingtonpost.com/wp-srv/business/documents/health-science-NFIP-123110.pdf\n",
    "\n",
    "\n",
    "Loss data by Calendar Year: https://www.fema.gov/loss-dollars-paid-calendar-year\n"
   ]
  },
  {
   "cell_type": "markdown",
   "metadata": {},
   "source": [
    "# Exploring NFIP losses"
   ]
  },
  {
   "cell_type": "code",
   "execution_count": null,
   "metadata": {},
   "outputs": [],
   "source": [
    "#libraries"
   ]
  },
  {
   "cell_type": "code",
   "execution_count": 37,
   "metadata": {},
   "outputs": [],
   "source": [
    "import pandas as pd"
   ]
  },
  {
   "cell_type": "code",
   "execution_count": 38,
   "metadata": {},
   "outputs": [
    {
     "name": "stdout",
     "output_type": "stream",
     "text": [
      "Exploring HUDEX.ipynb\r\n",
      "Exploring loss.ipynb\r\n",
      "PolicyandLossDatabyGeography (1).xlsx\r\n",
      "PolicyandLossDatabyGeography.xlsx - Policy and Loss by Geography.xlsx\r\n",
      "coverage_by_year.csv\r\n",
      "losses_by_year.csv\r\n",
      "paid_by_year.csv\r\n",
      "premium_by_year.csv\r\n"
     ]
    }
   ],
   "source": [
    "!ls"
   ]
  },
  {
   "cell_type": "code",
   "execution_count": 39,
   "metadata": {},
   "outputs": [],
   "source": [
    "df_paid = pd.read_csv('premium_by_year.csv')"
   ]
  },
  {
   "cell_type": "code",
   "execution_count": 40,
   "metadata": {},
   "outputs": [],
   "source": [
    "df_losses = pd.read_csv('losses_by_year.csv')"
   ]
  },
  {
   "cell_type": "code",
   "execution_count": null,
   "metadata": {},
   "outputs": [],
   "source": [
    "#use the year to merge"
   ]
  },
  {
   "cell_type": "code",
   "execution_count": 41,
   "metadata": {},
   "outputs": [],
   "source": [
    "df_final = df_paid.merge(df_losses, left_on=\"Calendar_Year\", right_on='Calendar_Year')"
   ]
  },
  {
   "cell_type": "code",
   "execution_count": null,
   "metadata": {},
   "outputs": [],
   "source": [
    "#replacing commas and multiplying losses by 1000 "
   ]
  },
  {
   "cell_type": "code",
   "execution_count": 42,
   "metadata": {},
   "outputs": [],
   "source": [
    "df_final['diff']=df_final['Earned_Premium'].str.replace(',', '').astype(float)-df_final['Losses'].str.replace(',', '').astype(float)*1000"
   ]
  },
  {
   "cell_type": "code",
   "execution_count": 50,
   "metadata": {},
   "outputs": [
    {
     "data": {
      "text/html": [
       "<div>\n",
       "<style scoped>\n",
       "    .dataframe tbody tr th:only-of-type {\n",
       "        vertical-align: middle;\n",
       "    }\n",
       "\n",
       "    .dataframe tbody tr th {\n",
       "        vertical-align: top;\n",
       "    }\n",
       "\n",
       "    .dataframe thead th {\n",
       "        text-align: right;\n",
       "    }\n",
       "</style>\n",
       "<table border=\"1\" class=\"dataframe\">\n",
       "  <thead>\n",
       "    <tr style=\"text-align: right;\">\n",
       "      <th></th>\n",
       "      <th>Calendar_Year</th>\n",
       "      <th>Earned_Premium</th>\n",
       "      <th>Losses</th>\n",
       "      <th>diff</th>\n",
       "    </tr>\n",
       "  </thead>\n",
       "  <tbody>\n",
       "    <tr>\n",
       "      <td>0</td>\n",
       "      <td>1978</td>\n",
       "      <td>81,810,586</td>\n",
       "      <td>147,719</td>\n",
       "      <td>-6.590841e+07</td>\n",
       "    </tr>\n",
       "    <tr>\n",
       "      <td>1</td>\n",
       "      <td>1979</td>\n",
       "      <td>125,482,502</td>\n",
       "      <td>483,281</td>\n",
       "      <td>-3.577985e+08</td>\n",
       "    </tr>\n",
       "    <tr>\n",
       "      <td>2</td>\n",
       "      <td>1980</td>\n",
       "      <td>149,177,714</td>\n",
       "      <td>230,414</td>\n",
       "      <td>-8.123629e+07</td>\n",
       "    </tr>\n",
       "    <tr>\n",
       "      <td>5</td>\n",
       "      <td>1983</td>\n",
       "      <td>313,020,325</td>\n",
       "      <td>439,455</td>\n",
       "      <td>-1.264347e+08</td>\n",
       "    </tr>\n",
       "    <tr>\n",
       "      <td>7</td>\n",
       "      <td>1985</td>\n",
       "      <td>364,845,810</td>\n",
       "      <td>368,239</td>\n",
       "      <td>-3.393190e+06</td>\n",
       "    </tr>\n",
       "    <tr>\n",
       "      <td>11</td>\n",
       "      <td>1989</td>\n",
       "      <td>531,265,082</td>\n",
       "      <td>661,658</td>\n",
       "      <td>-1.303929e+08</td>\n",
       "    </tr>\n",
       "    <tr>\n",
       "      <td>14</td>\n",
       "      <td>1992</td>\n",
       "      <td>627,229,040</td>\n",
       "      <td>710,225</td>\n",
       "      <td>-8.299596e+07</td>\n",
       "    </tr>\n",
       "    <tr>\n",
       "      <td>17</td>\n",
       "      <td>1995</td>\n",
       "      <td>822,121,437</td>\n",
       "      <td>1,295,578</td>\n",
       "      <td>-4.734566e+08</td>\n",
       "    </tr>\n",
       "    <tr>\n",
       "      <td>26</td>\n",
       "      <td>2004</td>\n",
       "      <td>1,818,697,632</td>\n",
       "      <td>2,232,410</td>\n",
       "      <td>-4.137124e+08</td>\n",
       "    </tr>\n",
       "    <tr>\n",
       "      <td>27</td>\n",
       "      <td>2005</td>\n",
       "      <td>1,975,659,632</td>\n",
       "      <td>17,770,443</td>\n",
       "      <td>-1.579478e+10</td>\n",
       "    </tr>\n",
       "    <tr>\n",
       "      <td>30</td>\n",
       "      <td>2008</td>\n",
       "      <td>2,801,576,887</td>\n",
       "      <td>3,489,569</td>\n",
       "      <td>-6.879921e+08</td>\n",
       "    </tr>\n",
       "    <tr>\n",
       "      <td>34</td>\n",
       "      <td>2012</td>\n",
       "      <td>3,341,335,762</td>\n",
       "      <td>9,516,995</td>\n",
       "      <td>-6.175659e+09</td>\n",
       "    </tr>\n",
       "    <tr>\n",
       "      <td>38</td>\n",
       "      <td>2016</td>\n",
       "      <td>3,332,142,136</td>\n",
       "      <td>3,693,244</td>\n",
       "      <td>-3.611019e+08</td>\n",
       "    </tr>\n",
       "    <tr>\n",
       "      <td>39</td>\n",
       "      <td>2017</td>\n",
       "      <td>3,308,151,440</td>\n",
       "      <td>8,736,386</td>\n",
       "      <td>-5.428235e+09</td>\n",
       "    </tr>\n",
       "  </tbody>\n",
       "</table>\n",
       "</div>"
      ],
      "text/plain": [
       "    Calendar_Year Earned_Premium      Losses          diff\n",
       "0            1978     81,810,586     147,719 -6.590841e+07\n",
       "1            1979    125,482,502     483,281 -3.577985e+08\n",
       "2            1980    149,177,714     230,414 -8.123629e+07\n",
       "5            1983    313,020,325     439,455 -1.264347e+08\n",
       "7            1985    364,845,810     368,239 -3.393190e+06\n",
       "11           1989    531,265,082     661,658 -1.303929e+08\n",
       "14           1992    627,229,040     710,225 -8.299596e+07\n",
       "17           1995    822,121,437   1,295,578 -4.734566e+08\n",
       "26           2004  1,818,697,632   2,232,410 -4.137124e+08\n",
       "27           2005  1,975,659,632  17,770,443 -1.579478e+10\n",
       "30           2008  2,801,576,887   3,489,569 -6.879921e+08\n",
       "34           2012  3,341,335,762   9,516,995 -6.175659e+09\n",
       "38           2016  3,332,142,136   3,693,244 -3.611019e+08\n",
       "39           2017  3,308,151,440   8,736,386 -5.428235e+09"
      ]
     },
     "execution_count": 50,
     "metadata": {},
     "output_type": "execute_result"
    }
   ],
   "source": [
    "df_final[df_final['diff']<0]"
   ]
  },
  {
   "cell_type": "code",
   "execution_count": null,
   "metadata": {},
   "outputs": [],
   "source": [
    "#plotting"
   ]
  },
  {
   "cell_type": "code",
   "execution_count": 57,
   "metadata": {},
   "outputs": [
    {
     "data": {
      "text/plain": [
       "<matplotlib.axes._subplots.AxesSubplot at 0x11290c310>"
      ]
     },
     "execution_count": 57,
     "metadata": {},
     "output_type": "execute_result"
    },
    {
     "data": {
      "image/png": "[encoded data removed]",
      "text/plain": [
       "<Figure size 432x288 with 1 Axes>"
      ]
     },
     "metadata": {
      "needs_background": "light"
     },
     "output_type": "display_data"
    }
   ],
   "source": [
    "df_final['diff'].plot(kind='bar',x='Calendar_Year')\n"
   ]
  },
  {
   "cell_type": "code",
   "execution_count": null,
   "metadata": {},
   "outputs": [],
   "source": []
  }
 ],
 "metadata": {
  "kernelspec": {
   "display_name": "Python 3",
   "language": "python",
   "name": "python3"
  },
  "language_info": {
   "codemirror_mode": {
    "name": "ipython",
    "version": 3
   },
   "file_extension": ".py",
   "mimetype": "text/x-python",
   "name": "python",
   "nbconvert_exporter": "python",
   "pygments_lexer": "ipython3",
   "version": "3.7.5"
  }
 },
 "nbformat": 4,
 "nbformat_minor": 2
}
